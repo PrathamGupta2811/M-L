{
 "cells": [
  {
   "cell_type": "code",
   "execution_count": 1,
   "id": "1aa4ea1c",
   "metadata": {
    "scrolled": true
   },
   "outputs": [
    {
     "name": "stdout",
     "output_type": "stream",
     "text": [
      "Enter the number1 10\n",
      "Enter the number2 5\n",
      "15.0\n",
      "5.0\n",
      "50.0\n",
      "2.0\n",
      "100000.0\n"
     ]
    }
   ],
   "source": [
    "a= float(input(\"Enter the number1 \"))\n",
    "b= float(input(\"Enter the number2 \"))\n",
    "add= a+b\n",
    "print(add)\n",
    "subtract= a-b\n",
    "print(subtract)\n",
    "multiply= a*b\n",
    "print(multiply)\n",
    "divide= a/b\n",
    "print(divide)\n",
    "expo= a**b\n",
    "print(expo)"
   ]
  },
  {
   "cell_type": "code",
   "execution_count": 2,
   "id": "438494e9",
   "metadata": {},
   "outputs": [
    {
     "name": "stdout",
     "output_type": "stream",
     "text": [
      "Enter the number2 5\n"
     ]
    }
   ],
   "source": [
    "b= float(input(\"Enter the number2 \"))"
   ]
  },
  {
   "cell_type": "code",
   "execution_count": 4,
   "id": "c5864fdc",
   "metadata": {},
   "outputs": [
    {
     "name": "stdout",
     "output_type": "stream",
     "text": [
      "15.0\n"
     ]
    }
   ],
   "source": [
    "add= a+b\n",
    "print(add)\n"
   ]
  },
  {
   "cell_type": "code",
   "execution_count": 5,
   "id": "31648e25",
   "metadata": {},
   "outputs": [
    {
     "name": "stdout",
     "output_type": "stream",
     "text": [
      "5.0\n"
     ]
    }
   ],
   "source": [
    "subtract= a-b\n",
    "print(subtract)"
   ]
  },
  {
   "cell_type": "code",
   "execution_count": 6,
   "id": "8dc5daf3",
   "metadata": {},
   "outputs": [
    {
     "name": "stdout",
     "output_type": "stream",
     "text": [
      "50.0\n"
     ]
    }
   ],
   "source": [
    "multiply= a*b\n",
    "print(multiply)"
   ]
  },
  {
   "cell_type": "code",
   "execution_count": 8,
   "id": "7ef9f15c",
   "metadata": {},
   "outputs": [
    {
     "name": "stdout",
     "output_type": "stream",
     "text": [
      "2.0\n"
     ]
    }
   ],
   "source": [
    "divide= a/b\n",
    "print(divide)"
   ]
  },
  {
   "cell_type": "code",
   "execution_count": 10,
   "id": "8bd420aa",
   "metadata": {},
   "outputs": [
    {
     "name": "stdout",
     "output_type": "stream",
     "text": [
      "100000.0\n"
     ]
    }
   ],
   "source": [
    "expo= a**b\n",
    "print(expo)"
   ]
  },
  {
   "cell_type": "code",
   "execution_count": 13,
   "id": "4426ff0a",
   "metadata": {},
   "outputs": [],
   "source": [
    "expo= a**b"
   ]
  },
  {
   "cell_type": "code",
   "execution_count": 2,
   "id": "60d0a093",
   "metadata": {},
   "outputs": [
    {
     "name": "stdout",
     "output_type": "stream",
     "text": [
      "True\n",
      "False\n",
      "True\n",
      "False\n",
      "10.0\n",
      "5.0\n"
     ]
    }
   ],
   "source": [
    "print(a>b)\n",
    "print(a<b)\n",
    "print(a!=b)\n",
    "print(a==b)\n",
    "print(a or b)\n",
    "print(a and b)\n"
   ]
  },
  {
   "cell_type": "code",
   "execution_count": 15,
   "id": "47410f3a",
   "metadata": {},
   "outputs": [
    {
     "name": "stdout",
     "output_type": "stream",
     "text": [
      "False\n"
     ]
    }
   ],
   "source": [
    "print(a<b)"
   ]
  },
  {
   "cell_type": "code",
   "execution_count": 16,
   "id": "3f1f4ced",
   "metadata": {},
   "outputs": [
    {
     "name": "stdout",
     "output_type": "stream",
     "text": [
      "True\n"
     ]
    }
   ],
   "source": [
    "print(a!=b)"
   ]
  },
  {
   "cell_type": "code",
   "execution_count": 17,
   "id": "e832c841",
   "metadata": {},
   "outputs": [
    {
     "name": "stdout",
     "output_type": "stream",
     "text": [
      "False\n"
     ]
    }
   ],
   "source": [
    "print(a==b)"
   ]
  },
  {
   "cell_type": "code",
   "execution_count": 18,
   "id": "827a8dcd",
   "metadata": {},
   "outputs": [
    {
     "name": "stdout",
     "output_type": "stream",
     "text": [
      "10.0\n"
     ]
    }
   ],
   "source": [
    "print(a or b)"
   ]
  },
  {
   "cell_type": "code",
   "execution_count": 19,
   "id": "0ef92b2a",
   "metadata": {},
   "outputs": [
    {
     "name": "stdout",
     "output_type": "stream",
     "text": [
      "5.0\n"
     ]
    }
   ],
   "source": [
    "print(a and b)"
   ]
  },
  {
   "cell_type": "code",
   "execution_count": 20,
   "id": "9a6487ae",
   "metadata": {},
   "outputs": [
    {
     "ename": "SyntaxError",
     "evalue": "invalid syntax (2947416082.py, line 1)",
     "output_type": "error",
     "traceback": [
      "\u001b[1;36m  Input \u001b[1;32mIn [20]\u001b[1;36m\u001b[0m\n\u001b[1;33m    print(a not b)\u001b[0m\n\u001b[1;37m                ^\u001b[0m\n\u001b[1;31mSyntaxError\u001b[0m\u001b[1;31m:\u001b[0m invalid syntax\n"
     ]
    }
   ],
   "source": [
    "print(a not b)"
   ]
  },
  {
   "cell_type": "code",
   "execution_count": 3,
   "id": "f8d0f5aa",
   "metadata": {},
   "outputs": [
    {
     "name": "stdout",
     "output_type": "stream",
     "text": [
      "Hello Pratham\n",
      "Hello PrathamGupta\n",
      "HELLO PRATHAM\n",
      "            Hello Pratham\n",
      "      Hello Pratham      \n",
      "Hey Pratham\n",
      "Hello\n"
     ]
    }
   ],
   "source": [
    "String=\"Hello Pratham\"\n",
    "print(String)\n",
    "String1=\"Gupta\"\n",
    "print(String+String1)\n",
    "print(String.upper())\n",
    "print(String.rjust(25))\n",
    "print(String.center(25))\n",
    "print(String.replace(\"Hello\",\"Hey\"))\n",
    "print(String[0:5])"
   ]
  },
  {
   "cell_type": "code",
   "execution_count": 22,
   "id": "25410c8b",
   "metadata": {},
   "outputs": [
    {
     "name": "stdout",
     "output_type": "stream",
     "text": [
      "Hello Pratham\n"
     ]
    }
   ],
   "source": [
    "print(String)"
   ]
  },
  {
   "cell_type": "code",
   "execution_count": 23,
   "id": "1d95cf66",
   "metadata": {},
   "outputs": [
    {
     "data": {
      "text/plain": [
       "'m'"
      ]
     },
     "execution_count": 23,
     "metadata": {},
     "output_type": "execute_result"
    }
   ],
   "source": [
    "String[-1]"
   ]
  },
  {
   "cell_type": "code",
   "execution_count": 24,
   "id": "385bcba1",
   "metadata": {},
   "outputs": [
    {
     "data": {
      "text/plain": [
       "'H'"
      ]
     },
     "execution_count": 24,
     "metadata": {},
     "output_type": "execute_result"
    }
   ],
   "source": [
    "String[0]"
   ]
  },
  {
   "cell_type": "code",
   "execution_count": 25,
   "id": "641b6c66",
   "metadata": {},
   "outputs": [
    {
     "data": {
      "text/plain": [
       "'m'"
      ]
     },
     "execution_count": 25,
     "metadata": {},
     "output_type": "execute_result"
    }
   ],
   "source": [
    "String[12]"
   ]
  },
  {
   "cell_type": "code",
   "execution_count": 26,
   "id": "4615e67a",
   "metadata": {},
   "outputs": [],
   "source": [
    "String1=\"Gupta\""
   ]
  },
  {
   "cell_type": "code",
   "execution_count": 27,
   "id": "e4510a8e",
   "metadata": {},
   "outputs": [
    {
     "name": "stdout",
     "output_type": "stream",
     "text": [
      "Hello PrathamGupta\n"
     ]
    }
   ],
   "source": [
    "print(String+String1)"
   ]
  },
  {
   "cell_type": "code",
   "execution_count": 28,
   "id": "1e137ca8",
   "metadata": {},
   "outputs": [
    {
     "name": "stdout",
     "output_type": "stream",
     "text": [
      "HELLO PRATHAM\n"
     ]
    }
   ],
   "source": [
    "print(String.upper())"
   ]
  },
  {
   "cell_type": "code",
   "execution_count": 29,
   "id": "776b00a6",
   "metadata": {},
   "outputs": [
    {
     "name": "stdout",
     "output_type": "stream",
     "text": [
      "            Hello Pratham\n"
     ]
    }
   ],
   "source": [
    "print(String.rjust(25))"
   ]
  },
  {
   "cell_type": "code",
   "execution_count": 30,
   "id": "84611570",
   "metadata": {},
   "outputs": [
    {
     "name": "stdout",
     "output_type": "stream",
     "text": [
      "      Hello Pratham      \n"
     ]
    }
   ],
   "source": [
    "print(String.center(25))"
   ]
  },
  {
   "cell_type": "code",
   "execution_count": 31,
   "id": "6ff02f5a",
   "metadata": {},
   "outputs": [
    {
     "name": "stdout",
     "output_type": "stream",
     "text": [
      "Hey Pratham\n"
     ]
    }
   ],
   "source": [
    "print(String.replace(\"Hello\",\"Hey\"))"
   ]
  },
  {
   "cell_type": "code",
   "execution_count": 32,
   "id": "e65c4154",
   "metadata": {},
   "outputs": [
    {
     "name": "stdout",
     "output_type": "stream",
     "text": [
      "Hello\n"
     ]
    }
   ],
   "source": [
    "print(String[0:5])"
   ]
  },
  {
   "cell_type": "code",
   "execution_count": 4,
   "id": "0eab0b54",
   "metadata": {},
   "outputs": [
    {
     "name": "stdout",
     "output_type": "stream",
     "text": [
      "Hello Pratham\n",
      "[5, 4.5]\n",
      "[5, 4.5, 'Hello Pratham', 'Gupta', 'How']\n",
      "[5, 'Hello Pratham', 'Gupta', 'How']\n"
     ]
    }
   ],
   "source": [
    "c=5\n",
    "d=4.50\n",
    "List=[c,d,String,String1]\n",
    "print (List[2])\n",
    "print(List[0:2])\n",
    "List.append(\"How\")\n",
    "print(List)\n",
    "List.remove(4.5)\n",
    "print(List)"
   ]
  },
  {
   "cell_type": "code",
   "execution_count": 34,
   "id": "9b94852c",
   "metadata": {},
   "outputs": [],
   "source": [
    " d=4.50"
   ]
  },
  {
   "cell_type": "code",
   "execution_count": 35,
   "id": "0d78383b",
   "metadata": {},
   "outputs": [],
   "source": [
    "List=[c,d,String,String1]"
   ]
  },
  {
   "cell_type": "code",
   "execution_count": 41,
   "id": "25a3a478",
   "metadata": {},
   "outputs": [
    {
     "name": "stdout",
     "output_type": "stream",
     "text": [
      "Hello Pratham\n"
     ]
    }
   ],
   "source": [
    "print (List[2])"
   ]
  },
  {
   "cell_type": "code",
   "execution_count": 43,
   "id": "e841e607",
   "metadata": {},
   "outputs": [
    {
     "name": "stdout",
     "output_type": "stream",
     "text": [
      "lo \n"
     ]
    }
   ],
   "source": [
    "print(String[3:6])"
   ]
  },
  {
   "cell_type": "code",
   "execution_count": 45,
   "id": "fcf938b7",
   "metadata": {},
   "outputs": [],
   "source": [
    "List.append(\"How\")"
   ]
  },
  {
   "cell_type": "code",
   "execution_count": 46,
   "id": "c3b45f2b",
   "metadata": {},
   "outputs": [
    {
     "name": "stdout",
     "output_type": "stream",
     "text": [
      "[5, 4.5, 'Hello Pratham', 'Gupta', 56, 'How', 'How']\n"
     ]
    }
   ],
   "source": [
    "print(List)"
   ]
  },
  {
   "cell_type": "code",
   "execution_count": 47,
   "id": "945b9d23",
   "metadata": {},
   "outputs": [],
   "source": [
    "List.remove(4.5)"
   ]
  },
  {
   "cell_type": "code",
   "execution_count": 48,
   "id": "dd898d11",
   "metadata": {},
   "outputs": [
    {
     "name": "stdout",
     "output_type": "stream",
     "text": [
      "[5, 'Hello Pratham', 'Gupta', 56, 'How', 'How']\n"
     ]
    }
   ],
   "source": [
    "print(List)"
   ]
  },
  {
   "cell_type": "code",
   "execution_count": 5,
   "id": "120e3f1d",
   "metadata": {},
   "outputs": [
    {
     "name": "stdout",
     "output_type": "stream",
     "text": [
      "{'Website': 'HTMLCSS', 3: [2, 6, 5, 'hey']}\n",
      "{3: [2, 6, 5, 'hey']}\n",
      "{3: [2, 6, 5, 'hey'], 'Language': 'Python'}\n"
     ]
    }
   ],
   "source": [
    "Dictionary={'Website':'HTMLCSS',3:[2,6,5,'hey']}\n",
    "print(Dictionary)\n",
    "Dictionary.pop('Website')\n",
    "print(Dictionary)\n",
    "Dictionary['Language'] = 'Python'\n",
    "print(Dictionary)"
   ]
  },
  {
   "cell_type": "code",
   "execution_count": 50,
   "id": "093ec8a3",
   "metadata": {},
   "outputs": [
    {
     "name": "stdout",
     "output_type": "stream",
     "text": [
      "{'Website': 'HTMLCSS', 3: [2, 6, 5, 'hey']}\n"
     ]
    }
   ],
   "source": [
    "print(Dictionary)"
   ]
  },
  {
   "cell_type": "code",
   "execution_count": 52,
   "id": "5bcbb260",
   "metadata": {},
   "outputs": [
    {
     "data": {
      "text/plain": [
       "'HTMLCSS'"
      ]
     },
     "execution_count": 52,
     "metadata": {},
     "output_type": "execute_result"
    }
   ],
   "source": [
    "Dictionary.pop('Website')"
   ]
  },
  {
   "cell_type": "code",
   "execution_count": 53,
   "id": "0d49be00",
   "metadata": {},
   "outputs": [
    {
     "name": "stdout",
     "output_type": "stream",
     "text": [
      "{3: [2, 6, 5, 'hey']}\n"
     ]
    }
   ],
   "source": [
    "print(Dictionary)"
   ]
  },
  {
   "cell_type": "code",
   "execution_count": 55,
   "id": "a39a0075",
   "metadata": {},
   "outputs": [],
   "source": [
    "del Dictionary[3]"
   ]
  },
  {
   "cell_type": "code",
   "execution_count": 56,
   "id": "9f64edd0",
   "metadata": {},
   "outputs": [
    {
     "name": "stdout",
     "output_type": "stream",
     "text": [
      "{}\n"
     ]
    }
   ],
   "source": [
    "print(Dictionary)"
   ]
  },
  {
   "cell_type": "code",
   "execution_count": 12,
   "id": "2657c82f",
   "metadata": {},
   "outputs": [
    {
     "name": "stdout",
     "output_type": "stream",
     "text": [
      "{1, 5, 6, 7, 9}\n",
      "{1, 5, 6, 7, 8, 9, 10}\n",
      "{1, 5, 6, 7, 9, 10}\n"
     ]
    }
   ],
   "source": [
    "set={1,5,6,9,5}\n",
    "set.add(7)\n",
    "print(set)\n",
    "set.update([5,6,8,10])\n",
    "print(set)\n",
    "set.remove(8)\n",
    "print(set)"
   ]
  },
  {
   "cell_type": "code",
   "execution_count": 58,
   "id": "b4c1f663",
   "metadata": {},
   "outputs": [
    {
     "ename": "TypeError",
     "evalue": "'set' object is not subscriptable",
     "output_type": "error",
     "traceback": [
      "\u001b[1;31m---------------------------------------------------------------------------\u001b[0m",
      "\u001b[1;31mTypeError\u001b[0m                                 Traceback (most recent call last)",
      "Input \u001b[1;32mIn [58]\u001b[0m, in \u001b[0;36m<cell line: 1>\u001b[1;34m()\u001b[0m\n\u001b[1;32m----> 1\u001b[0m \u001b[38;5;28;43mset\u001b[39;49m\u001b[43m[\u001b[49m\u001b[38;5;241;43m4\u001b[39;49m\u001b[43m]\u001b[49m\n",
      "\u001b[1;31mTypeError\u001b[0m: 'set' object is not subscriptable"
     ]
    }
   ],
   "source": [
    "set[4]"
   ]
  },
  {
   "cell_type": "code",
   "execution_count": 59,
   "id": "a067bea4",
   "metadata": {},
   "outputs": [],
   "source": [
    "set.add(7)"
   ]
  },
  {
   "cell_type": "code",
   "execution_count": 60,
   "id": "66c2ad41",
   "metadata": {},
   "outputs": [
    {
     "name": "stdout",
     "output_type": "stream",
     "text": [
      "{1, 5, 6, 7, 9}\n"
     ]
    }
   ],
   "source": [
    "print(set)"
   ]
  },
  {
   "cell_type": "code",
   "execution_count": 62,
   "id": "c5af1179",
   "metadata": {},
   "outputs": [],
   "source": [
    "set.update([5,6,8,10])"
   ]
  },
  {
   "cell_type": "code",
   "execution_count": 63,
   "id": "fe3f3ea6",
   "metadata": {},
   "outputs": [
    {
     "name": "stdout",
     "output_type": "stream",
     "text": [
      "{1, 5, 6, 7, 8, 9, 10}\n"
     ]
    }
   ],
   "source": [
    "print(set)"
   ]
  },
  {
   "cell_type": "code",
   "execution_count": 64,
   "id": "8aa4045b",
   "metadata": {},
   "outputs": [],
   "source": [
    "set.remove(8)"
   ]
  },
  {
   "cell_type": "code",
   "execution_count": 65,
   "id": "56749553",
   "metadata": {},
   "outputs": [
    {
     "name": "stdout",
     "output_type": "stream",
     "text": [
      "{1, 5, 6, 7, 9, 10}\n"
     ]
    }
   ],
   "source": [
    "print(set)"
   ]
  },
  {
   "cell_type": "code",
   "execution_count": 66,
   "id": "ce6ed7f0",
   "metadata": {},
   "outputs": [
    {
     "ename": "KeyError",
     "evalue": "11",
     "output_type": "error",
     "traceback": [
      "\u001b[1;31m---------------------------------------------------------------------------\u001b[0m",
      "\u001b[1;31mKeyError\u001b[0m                                  Traceback (most recent call last)",
      "Input \u001b[1;32mIn [66]\u001b[0m, in \u001b[0;36m<cell line: 1>\u001b[1;34m()\u001b[0m\n\u001b[1;32m----> 1\u001b[0m \u001b[38;5;28;43mset\u001b[39;49m\u001b[38;5;241;43m.\u001b[39;49m\u001b[43mremove\u001b[49m\u001b[43m(\u001b[49m\u001b[38;5;241;43m11\u001b[39;49m\u001b[43m)\u001b[49m\n",
      "\u001b[1;31mKeyError\u001b[0m: 11"
     ]
    }
   ],
   "source": [
    "set.remove(11)"
   ]
  },
  {
   "cell_type": "code",
   "execution_count": 67,
   "id": "de1388b2",
   "metadata": {},
   "outputs": [],
   "source": [
    "set.discard(11)"
   ]
  },
  {
   "cell_type": "code",
   "execution_count": 14,
   "id": "b1cf00c9",
   "metadata": {},
   "outputs": [
    {
     "name": "stdout",
     "output_type": "stream",
     "text": [
      "(5, 6, 8, [8, 5, 4])\n",
      "{(0, 0): 100, (2, 2): 150}\n"
     ]
    }
   ],
   "source": [
    "tupel=(5,6,8,[8,5,4])\n",
    "print(tupel)\n",
    "# creating dictionary with tuple keys\n",
    "coordinates={(0,0):100,(2,2):150}\n",
    "print(coordinates)"
   ]
  },
  {
   "cell_type": "code",
   "execution_count": 71,
   "id": "91561cf0",
   "metadata": {},
   "outputs": [
    {
     "name": "stdout",
     "output_type": "stream",
     "text": [
      "5\n"
     ]
    }
   ],
   "source": [
    "print(tupel[3][1])"
   ]
  },
  {
   "cell_type": "code",
   "execution_count": 73,
   "id": "eb8ec9c9",
   "metadata": {},
   "outputs": [
    {
     "name": "stdout",
     "output_type": "stream",
     "text": [
      "8\n"
     ]
    }
   ],
   "source": [
    "print(tupel[2])"
   ]
  },
  {
   "cell_type": "code",
   "execution_count": 74,
   "id": "14023a97",
   "metadata": {},
   "outputs": [
    {
     "ename": "TypeError",
     "evalue": "'tuple' object does not support item assignment",
     "output_type": "error",
     "traceback": [
      "\u001b[1;31m---------------------------------------------------------------------------\u001b[0m",
      "\u001b[1;31mTypeError\u001b[0m                                 Traceback (most recent call last)",
      "Input \u001b[1;32mIn [74]\u001b[0m, in \u001b[0;36m<cell line: 1>\u001b[1;34m()\u001b[0m\n\u001b[1;32m----> 1\u001b[0m tupel[\u001b[38;5;241m2\u001b[39m]\u001b[38;5;241m=\u001b[39m\u001b[38;5;241m7\u001b[39m\n",
      "\u001b[1;31mTypeError\u001b[0m: 'tuple' object does not support item assignment"
     ]
    }
   ],
   "source": [
    "tupel[2]=7"
   ]
  },
  {
   "cell_type": "code",
   "execution_count": 75,
   "id": "03011087",
   "metadata": {},
   "outputs": [],
   "source": [
    "tupel[3][2]=1"
   ]
  },
  {
   "cell_type": "code",
   "execution_count": 76,
   "id": "1e16f807",
   "metadata": {},
   "outputs": [
    {
     "name": "stdout",
     "output_type": "stream",
     "text": [
      "(5, 6, 8, [8, 5, 1])\n"
     ]
    }
   ],
   "source": [
    "print(tupel)"
   ]
  },
  {
   "cell_type": "code",
   "execution_count": 77,
   "id": "6b8e11b0",
   "metadata": {},
   "outputs": [],
   "source": [
    "coordinates={(0,0):100,(2,2):150}"
   ]
  },
  {
   "cell_type": "code",
   "execution_count": 82,
   "id": "f5ec876d",
   "metadata": {},
   "outputs": [
    {
     "data": {
      "text/plain": [
       "100"
      ]
     },
     "execution_count": 82,
     "metadata": {},
     "output_type": "execute_result"
    }
   ],
   "source": [
    "coordinates[(0,0)]\n"
   ]
  },
  {
   "cell_type": "code",
   "execution_count": 86,
   "id": "d97ad884",
   "metadata": {},
   "outputs": [],
   "source": [
    "import pandas as pd\n",
    "import matplotlib as plt"
   ]
  },
  {
   "cell_type": "code",
   "execution_count": 89,
   "id": "f77bc085",
   "metadata": {},
   "outputs": [
    {
     "name": "stdout",
     "output_type": "stream",
     "text": [
      "The number has negative sign\n"
     ]
    }
   ],
   "source": [
    "a=-5\n",
    "\n",
    "if a >= 0:\n",
    "    print(\"The number has positive sign\")\n",
    "else:\n",
    "    print(\"The number has negative sign\")"
   ]
  },
  {
   "cell_type": "code",
   "execution_count": 90,
   "id": "95ea8252",
   "metadata": {},
   "outputs": [],
   "source": [
    "def relu(x):\n",
    "    if x>=0:\n",
    "        return x\n",
    "    else:\n",
    "        return 0\n",
    "    \n",
    "       "
   ]
  },
  {
   "cell_type": "code",
   "execution_count": 91,
   "id": "b3fafd01",
   "metadata": {},
   "outputs": [
    {
     "name": "stdout",
     "output_type": "stream",
     "text": [
      "0\n"
     ]
    }
   ],
   "source": [
    "x=-6\n",
    "print(relu(x))"
   ]
  },
  {
   "cell_type": "code",
   "execution_count": 15,
   "id": "0c8c4d12",
   "metadata": {},
   "outputs": [],
   "source": [
    "def primenumbers(y):\n",
    "   \n",
    "    for i in range(1,y):\n",
    "        b=0\n",
    "        if i<=2:\n",
    "            print(i)\n",
    "        if i>=2:\n",
    "            b=0\n",
    "            k=0\n",
    "            k=i\n",
    "            for j in range(2,i-1):\n",
    "                if k%j==0:\n",
    "                    b=b+1            \n",
    "        if (b==0)&(i>2):\n",
    "            print(i)  \n",
    "        "
   ]
  },
  {
   "cell_type": "code",
   "execution_count": 16,
   "id": "439baf1b",
   "metadata": {},
   "outputs": [
    {
     "name": "stdout",
     "output_type": "stream",
     "text": [
      "1\n",
      "2\n",
      "3\n",
      "5\n",
      "7\n",
      "11\n",
      "13\n",
      "17\n",
      "19\n"
     ]
    }
   ],
   "source": [
    "primenumbers(20)"
   ]
  },
  {
   "cell_type": "code",
   "execution_count": 24,
   "id": "033335d3",
   "metadata": {},
   "outputs": [],
   "source": [
    "def factorial(z):\n",
    "    if z>0:\n",
    "        if z==1:\n",
    "            return 1\n",
    "        return (z*factorial(z-1))\n",
    "    "
   ]
  },
  {
   "cell_type": "code",
   "execution_count": 25,
   "id": "a2dcd939",
   "metadata": {},
   "outputs": [
    {
     "name": "stdout",
     "output_type": "stream",
     "text": [
      "3628800\n"
     ]
    }
   ],
   "source": [
    "print(factorial(10))"
   ]
  },
  {
   "cell_type": "code",
   "execution_count": null,
   "id": "50c2d645",
   "metadata": {},
   "outputs": [],
   "source": []
  }
 ],
 "metadata": {
  "kernelspec": {
   "display_name": "Python 3 (ipykernel)",
   "language": "python",
   "name": "python3"
  },
  "language_info": {
   "codemirror_mode": {
    "name": "ipython",
    "version": 3
   },
   "file_extension": ".py",
   "mimetype": "text/x-python",
   "name": "python",
   "nbconvert_exporter": "python",
   "pygments_lexer": "ipython3",
   "version": "3.9.12"
  }
 },
 "nbformat": 4,
 "nbformat_minor": 5
}
