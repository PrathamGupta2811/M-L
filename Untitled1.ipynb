{
 "cells": [
  {
   "cell_type": "code",
   "execution_count": 3,
   "id": "efb5f4ea",
   "metadata": {},
   "outputs": [
    {
     "data": {
      "text/plain": [
       "array(['1', '3', '0'], dtype=object)"
      ]
     },
     "execution_count": 3,
     "metadata": {},
     "output_type": "execute_result"
    }
   ],
   "source": [
    "import pandas as pd\n",
    "import numpy as np\n",
    "import matplotlib.pyplot as plt\n",
    "import warnings\n",
    "warnings.filterwarnings('ignore')\n",
    "\n",
    "data=pd.read_csv(\"1._Regression_-_Module_-_(Housing_Prices)[1].csv\")\n",
    "\n",
    "data['Condition of the House'] = data['Condition of the House'].map({'Good':'1','Excellent':'3','Bad':'0','Fair':'1','Okay':'0'})\n",
    "\n",
    "data['Condition of the House'].unique()"
   ]
  },
  {
   "cell_type": "code",
   "execution_count": 5,
   "id": "d0fdf74b",
   "metadata": {},
   "outputs": [
    {
     "data": {
      "text/plain": [
       "array(['No'], dtype=object)"
      ]
     },
     "execution_count": 5,
     "metadata": {},
     "output_type": "execute_result"
    }
   ],
   "source": [
    "data['luxary _home']=0;\n",
    "\n",
    "for i in range(len(data)):\n",
    "    count=0\n",
    "    if data['Waterfront View'][i] == 'Yes':\n",
    "        count=count+1\n",
    "    if data['Condition of the House'][i] in ['1','3']:\n",
    "        count=count+1\n",
    "    if data['Overall Grade'][i] >= 8:\n",
    "        count=count+1\n",
    "    if count>=2:\n",
    "        data['luxary_home']= 'Yes'\n",
    "    else:\n",
    "        data['luxary_home']='No'\n",
    "        \n",
    "data['luxary_home'].unique()"
   ]
  }
 ],
 "metadata": {
  "kernelspec": {
   "display_name": "Python 3 (ipykernel)",
   "language": "python",
   "name": "python3"
  },
  "language_info": {
   "codemirror_mode": {
    "name": "ipython",
    "version": 3
   },
   "file_extension": ".py",
   "mimetype": "text/x-python",
   "name": "python",
   "nbconvert_exporter": "python",
   "pygments_lexer": "ipython3",
   "version": "3.9.12"
  }
 },
 "nbformat": 4,
 "nbformat_minor": 5
}
